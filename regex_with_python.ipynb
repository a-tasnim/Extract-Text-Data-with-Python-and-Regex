{
 "cells": [
  {
   "cell_type": "markdown",
   "metadata": {},
   "source": [
    "# Welcome to the Notebook \n",
    "---\n",
    "\n",
    "## Task 1\n",
    "### What is Regex?\n",
    "\n",
    "Regular expressions (Regex) allow us to extract substrings with a specific pattern from a text.\n"
   ]
  },
  {
   "cell_type": "markdown",
   "metadata": {},
   "source": [
    "\n",
    "##### Meta characters: \n",
    "characters with special meaning \n",
    "\n",
    "<img src=\"images/t1.png\" >\n",
    "\n",
    "##### Special Sequences: \n",
    "Special Sequences with a special meaning\n",
    "\n",
    "<img src=\"images/t2.png\" >\n",
    "    "
   ]
  },
  {
   "cell_type": "code",
   "execution_count": 1,
   "metadata": {},
   "outputs": [],
   "source": [
    "import re"
   ]
  },
  {
   "cell_type": "code",
   "execution_count": 2,
   "metadata": {},
   "outputs": [],
   "source": [
    "paragraph = \"\"\"John is 24 years old and Sara is 23 and Maiki is 15 years old.\"\"\""
   ]
  },
  {
   "cell_type": "markdown",
   "metadata": {},
   "source": [
    "let's extract all ages"
   ]
  },
  {
   "cell_type": "code",
   "execution_count": 5,
   "metadata": {},
   "outputs": [
    {
     "data": {
      "text/plain": [
       "['24', '23', '15']"
      ]
     },
     "execution_count": 5,
     "metadata": {},
     "output_type": "execute_result"
    }
   ],
   "source": [
    "pattern_for_ages = r'\\d+'\n",
    "\n",
    "pattern_for_ages2 = r'[0-9]+'\n",
    "\n",
    "ages = re.findall(pattern_for_ages, paragraph)\n",
    "ages2 = re.findall(pattern_for_ages2, paragraph)\n",
    "ages2"
   ]
  },
  {
   "cell_type": "markdown",
   "metadata": {},
   "source": [
    "let's extrac all names"
   ]
  },
  {
   "cell_type": "code",
   "execution_count": 6,
   "metadata": {},
   "outputs": [
    {
     "data": {
      "text/plain": [
       "['John', 'Sara', 'Maiki']"
      ]
     },
     "execution_count": 6,
     "metadata": {},
     "output_type": "execute_result"
    }
   ],
   "source": [
    "pattern_for_names = r'[A-Z][a-z]+'\n",
    "\n",
    "names = re.findall(pattern_for_names, paragraph)\n",
    "names"
   ]
  },
  {
   "cell_type": "markdown",
   "metadata": {},
   "source": [
    "## Task 2\n",
    "    - extracting phone numbers\n",
    "    - formatting phone numbers so that all of them has the same format\n",
    "    - extracting names\n",
    "    - storing the data into a python dictionary"
   ]
  },
  {
   "cell_type": "code",
   "execution_count": 9,
   "metadata": {},
   "outputs": [],
   "source": [
    "phone_numbers = \"\"\"\n",
    "john: 145-202-9330\n",
    "Sara: 156.201.3333\n",
    "maiki: 111*505*1254\n",
    "\"\"\""
   ]
  },
  {
   "cell_type": "markdown",
   "metadata": {},
   "source": [
    "Extracting phone numbers "
   ]
  },
  {
   "cell_type": "code",
   "execution_count": 10,
   "metadata": {},
   "outputs": [
    {
     "data": {
      "text/plain": [
       "['145-202-9330', '156.201.3333', '111*505*1254']"
      ]
     },
     "execution_count": 10,
     "metadata": {},
     "output_type": "execute_result"
    }
   ],
   "source": [
    "phone_pattern = r'\\d\\d\\d.\\d\\d\\d.\\d\\d\\d\\d'\n",
    "phones = re.findall(phone_pattern, phone_numbers)\n",
    "phones"
   ]
  },
  {
   "cell_type": "markdown",
   "metadata": {},
   "source": [
    "Reformatting phone numbers and then extracting them again"
   ]
  },
  {
   "cell_type": "code",
   "execution_count": 13,
   "metadata": {},
   "outputs": [
    {
     "data": {
      "text/plain": [
       "['145-202-9330', '156-201-3333', '111-505-1254']"
      ]
     },
     "execution_count": 13,
     "metadata": {},
     "output_type": "execute_result"
    }
   ],
   "source": [
    "replace_pattern = r'[.*]'\n",
    "phone_numbers = re.sub(replace_pattern, '-', phone_numbers)\n",
    "\n",
    "phone_pattern = r'\\d\\d\\d.\\d\\d\\d.\\d\\d\\d\\d'\n",
    "\n",
    "phone_pattern2 = r'\\d{3}.\\d{3}.\\d{4}'\n",
    "\n",
    "phones = re.findall(phone_pattern2, phone_numbers)\n",
    "phones"
   ]
  },
  {
   "cell_type": "markdown",
   "metadata": {},
   "source": [
    "Let's extract the names"
   ]
  },
  {
   "cell_type": "code",
   "execution_count": 14,
   "metadata": {},
   "outputs": [
    {
     "data": {
      "text/plain": [
       "['john', 'Sara', 'maiki']"
      ]
     },
     "execution_count": 14,
     "metadata": {},
     "output_type": "execute_result"
    }
   ],
   "source": [
    "name_pattern = r'[A-Z]?[a-z]+'\n",
    "names = re.findall(name_pattern, phone_numbers)\n",
    "names"
   ]
  },
  {
   "cell_type": "markdown",
   "metadata": {},
   "source": [
    "Let's store it into a dictionary"
   ]
  },
  {
   "cell_type": "code",
   "execution_count": 15,
   "metadata": {},
   "outputs": [
    {
     "data": {
      "text/plain": [
       "{'john': '111-505-1254', 'Sara': '111-505-1254', 'maiki': '111-505-1254'}"
      ]
     },
     "execution_count": 15,
     "metadata": {},
     "output_type": "execute_result"
    }
   ],
   "source": [
    "contacts = {}\n",
    "for name in names:\n",
    "    for number in phones:\n",
    "        contacts[name] = number\n",
    "contacts"
   ]
  },
  {
   "cell_type": "markdown",
   "metadata": {},
   "source": [
    "## Task 3\n",
    "    the user enters his/her email, we want to check if the email address entered by the user is in a correct format.\n",
    "\n",
    "<img height= 400 width=600 src=\"images/emailparts.png\">"
   ]
  },
  {
   "cell_type": "code",
   "execution_count": 2,
   "metadata": {},
   "outputs": [
    {
     "name": "stdout",
     "output_type": "stream",
     "text": [
      "Please enter your emailanika45@yahoo.com\n",
      "its okay\n"
     ]
    }
   ],
   "source": [
    "import re\n",
    "email = input('Please enter your email')\n",
    "email_format = r'[a-zA-Z0-9_.-]+@[a-zA-Z-.]+\\.(com|net|edu|uk)'\n",
    "if re.match(email_format, email):\n",
    "    print('its okay')\n",
    "else:\n",
    "    print('wrong format')"
   ]
  },
  {
   "cell_type": "markdown",
   "metadata": {},
   "source": [
    "- Exercise: write a RegEx pattern that <b>does not</b> allow the user to enter an email address that begins with numbers."
   ]
  },
  {
   "cell_type": "code",
   "execution_count": null,
   "metadata": {},
   "outputs": [],
   "source": [
    "import re\n",
    "email = input('Please enter your email')\n",
    "email_format = r'[a-zA-Z][a-zA-Z0-9_.-]+@[a-zA-Z-.]+\\.(com|net|edu|uk)'\n",
    "if re.match(email_format, email):\n",
    "    print('its okay')\n",
    "else:\n",
    "    print('wrong format')"
   ]
  },
  {
   "cell_type": "markdown",
   "metadata": {},
   "source": [
    "### Task 4\n",
    "     - write a RegEx pattern to recognize the following urls\n",
    "     - reformatting the urls into => domain name + top level domain \n",
    "       E.g. coursera.org\n",
    "    \n",
    "<img height= 400 width=600 src=\"images/urlparts.png\">"
   ]
  },
  {
   "cell_type": "code",
   "execution_count": 7,
   "metadata": {},
   "outputs": [
    {
     "name": "stdout",
     "output_type": "stream",
     "text": [
      "google.com\n",
      "youtube.com\n",
      "nasa.gov\n",
      "coursera.org\n",
      "\n"
     ]
    }
   ],
   "source": [
    "urls = \"\"\"\n",
    "https://www.google.com\n",
    "http://youtube.com\n",
    "https://www.nasa.gov\n",
    "https://coursera.org\n",
    "\"\"\"\n",
    "url_pattern = r'https?://(www\\.)?(\\w+)(\\.\\w+)'\n",
    "\n",
    "url_list = re.findall(url_pattern, urls)\n",
    "new_urls = ''\n",
    "for g1,g2,g3 in url_list:\n",
    "    new_urls += g2+g3+'\\n'\n",
    "print(new_urls)"
   ]
  },
  {
   "cell_type": "markdown",
   "metadata": {},
   "source": [
    "let's reformat the urls\n"
   ]
  },
  {
   "cell_type": "code",
   "execution_count": 11,
   "metadata": {},
   "outputs": [
    {
     "name": "stdout",
     "output_type": "stream",
     "text": [
      "\n",
      "google.com\n",
      "youtube.com\n",
      "nasa.gov\n",
      "coursera.org\n",
      "\n"
     ]
    }
   ],
   "source": [
    "new_urls = re.sub(url_pattern, r'\\2\\3', urls)\n",
    "print(new_urls)"
   ]
  },
  {
   "cell_type": "markdown",
   "metadata": {},
   "source": [
    "- Exercise: below you can see a list of dates with different formats. reformat all the dates into dd/mm/yyyy using Regex."
   ]
  },
  {
   "cell_type": "code",
   "execution_count": 12,
   "metadata": {},
   "outputs": [],
   "source": [
    "dates = \"\"\"\n",
    "12 01 2020\n",
    "15.05.2021\n",
    "07/03/2020\n",
    "10-3-2019\n",
    "\"\"\"\n"
   ]
  },
  {
   "cell_type": "code",
   "execution_count": 20,
   "metadata": {},
   "outputs": [
    {
     "name": "stdout",
     "output_type": "stream",
     "text": [
      "\n",
      "12/01/2020\n",
      "15/05/2021\n",
      "07/03/2020\n",
      "10/3/2019\n",
      "\n"
     ]
    }
   ],
   "source": [
    "date_pattern = r'(\\d{2}).(\\d{2}|\\d{1}).(\\d{4})'\n",
    "new_dates = re.sub(date_pattern, r'\\1/\\2/\\3', dates)\n",
    "print(new_dates)"
   ]
  },
  {
   "cell_type": "markdown",
   "metadata": {},
   "source": [
    "# Task 5\n",
    "\n",
    "### Text Mining using RegEx\n",
    "\n",
    "we have a dataset containing of some personal notes"
   ]
  },
  {
   "cell_type": "code",
   "execution_count": 1,
   "metadata": {},
   "outputs": [
    {
     "data": {
      "text/html": [
       "<div>\n",
       "<style scoped>\n",
       "    .dataframe tbody tr th:only-of-type {\n",
       "        vertical-align: middle;\n",
       "    }\n",
       "\n",
       "    .dataframe tbody tr th {\n",
       "        vertical-align: top;\n",
       "    }\n",
       "\n",
       "    .dataframe thead th {\n",
       "        text-align: right;\n",
       "    }\n",
       "</style>\n",
       "<table border=\"1\" class=\"dataframe\">\n",
       "  <thead>\n",
       "    <tr style=\"text-align: right;\">\n",
       "      <th></th>\n",
       "      <th>notes</th>\n",
       "    </tr>\n",
       "  </thead>\n",
       "  <tbody>\n",
       "    <tr>\n",
       "      <th>0</th>\n",
       "      <td>Friends reunion on Thursday 25-05-2021 at 6:00 pm</td>\n",
       "    </tr>\n",
       "    <tr>\n",
       "      <th>1</th>\n",
       "      <td>on Saturday-night 29-05-2021 at 3:00 pm champi...</td>\n",
       "    </tr>\n",
       "    <tr>\n",
       "      <th>2</th>\n",
       "      <td>the doctor's appointment is on Tuesday 12-04-2...</td>\n",
       "    </tr>\n",
       "    <tr>\n",
       "      <th>3</th>\n",
       "      <td>Meeting with friends on Friday 14-12-2020 at 8...</td>\n",
       "    </tr>\n",
       "    <tr>\n",
       "      <th>4</th>\n",
       "      <td>On Wednesday 06.01.2021 at 9:30 pm there is a ...</td>\n",
       "    </tr>\n",
       "    <tr>\n",
       "      <th>5</th>\n",
       "      <td>Don't forget to call Dani on Friday 22/07/2020...</td>\n",
       "    </tr>\n",
       "    <tr>\n",
       "      <th>6</th>\n",
       "      <td>Wednesday 25/05/2021 at 5:30 pm, meeting with ...</td>\n",
       "    </tr>\n",
       "    <tr>\n",
       "      <th>7</th>\n",
       "      <td>Job interview at 9:00 am Monday 02.02.2021</td>\n",
       "    </tr>\n",
       "  </tbody>\n",
       "</table>\n",
       "</div>"
      ],
      "text/plain": [
       "                                               notes\n",
       "0  Friends reunion on Thursday 25-05-2021 at 6:00 pm\n",
       "1  on Saturday-night 29-05-2021 at 3:00 pm champi...\n",
       "2  the doctor's appointment is on Tuesday 12-04-2...\n",
       "3  Meeting with friends on Friday 14-12-2020 at 8...\n",
       "4  On Wednesday 06.01.2021 at 9:30 pm there is a ...\n",
       "5  Don't forget to call Dani on Friday 22/07/2020...\n",
       "6  Wednesday 25/05/2021 at 5:30 pm, meeting with ...\n",
       "7         Job interview at 9:00 am Monday 02.02.2021"
      ]
     },
     "execution_count": 1,
     "metadata": {},
     "output_type": "execute_result"
    }
   ],
   "source": [
    "import pandas as pd\n",
    "data = pd.read_csv('dataset.csv')\n",
    "data"
   ]
  },
  {
   "cell_type": "markdown",
   "metadata": {},
   "source": [
    "We want to extract some useful information out of this text data and store them into a dataframe. <br>\n",
    "so let's create the dataframe"
   ]
  },
  {
   "cell_type": "code",
   "execution_count": 2,
   "metadata": {},
   "outputs": [
    {
     "data": {
      "text/html": [
       "<div>\n",
       "<style scoped>\n",
       "    .dataframe tbody tr th:only-of-type {\n",
       "        vertical-align: middle;\n",
       "    }\n",
       "\n",
       "    .dataframe tbody tr th {\n",
       "        vertical-align: top;\n",
       "    }\n",
       "\n",
       "    .dataframe thead th {\n",
       "        text-align: right;\n",
       "    }\n",
       "</style>\n",
       "<table border=\"1\" class=\"dataframe\">\n",
       "  <thead>\n",
       "    <tr style=\"text-align: right;\">\n",
       "      <th></th>\n",
       "      <th>day</th>\n",
       "      <th>month</th>\n",
       "      <th>year</th>\n",
       "      <th>weekday</th>\n",
       "      <th>time</th>\n",
       "    </tr>\n",
       "  </thead>\n",
       "  <tbody>\n",
       "  </tbody>\n",
       "</table>\n",
       "</div>"
      ],
      "text/plain": [
       "Empty DataFrame\n",
       "Columns: [day, month, year, weekday, time]\n",
       "Index: []"
      ]
     },
     "execution_count": 2,
     "metadata": {},
     "output_type": "execute_result"
    }
   ],
   "source": [
    "information = pd.DataFrame(columns = ['day','month','year','weekday','time'])\n",
    "information"
   ]
  },
  {
   "cell_type": "markdown",
   "metadata": {},
   "source": [
    "Counting the number of words in each note"
   ]
  },
  {
   "cell_type": "code",
   "execution_count": 4,
   "metadata": {},
   "outputs": [
    {
     "data": {
      "text/plain": [
       "0    11\n",
       "1    15\n",
       "2    14\n",
       "3    12\n",
       "4    14\n",
       "5    15\n",
       "6    12\n",
       "7    10\n",
       "Name: notes, dtype: int64"
      ]
     },
     "execution_count": 4,
     "metadata": {},
     "output_type": "execute_result"
    }
   ],
   "source": [
    "data['notes'].str.count(r'\\w+')"
   ]
  },
  {
   "cell_type": "markdown",
   "metadata": {},
   "source": [
    "Get the list of all of the words in each note"
   ]
  },
  {
   "cell_type": "code",
   "execution_count": 5,
   "metadata": {},
   "outputs": [
    {
     "data": {
      "text/plain": [
       "0    [Friends, reunion, on, Thursday, 25, 05, 2021,...\n",
       "1    [on, Saturday, night, 29, 05, 2021, at, 3, 00,...\n",
       "2    [the, doctor, s, appointment, is, on, Tuesday,...\n",
       "3    [Meeting, with, friends, on, Friday, 14, 12, 2...\n",
       "4    [On, Wednesday, 06, 01, 2021, at, 9, 30, pm, t...\n",
       "5    [Don, t, forget, to, call, Dani, on, Friday, 2...\n",
       "6    [Wednesday, 25, 05, 2021, at, 5, 30, pm, meeti...\n",
       "7    [Job, interview, at, 9, 00, am, Monday, 02, 02...\n",
       "Name: notes, dtype: object"
      ]
     },
     "execution_count": 5,
     "metadata": {},
     "output_type": "execute_result"
    }
   ],
   "source": [
    "data['notes'].str.findall(r'\\w+')"
   ]
  },
  {
   "cell_type": "markdown",
   "metadata": {},
   "source": [
    "Exercise: find all of the dates in each note"
   ]
  },
  {
   "cell_type": "code",
   "execution_count": 6,
   "metadata": {},
   "outputs": [
    {
     "data": {
      "text/plain": [
       "0    [25-05-2021]\n",
       "1    [29-05-2021]\n",
       "2    [12-04-2021]\n",
       "3    [14-12-2020]\n",
       "4    [06.01.2021]\n",
       "5    [22/07/2020]\n",
       "6    [25/05/2021]\n",
       "7    [02.02.2021]\n",
       "Name: notes, dtype: object"
      ]
     },
     "execution_count": 6,
     "metadata": {},
     "output_type": "execute_result"
    }
   ],
   "source": [
    "data['notes'].str.findall(r'\\d{2}.\\d{2}.\\d{4}')"
   ]
  },
  {
   "cell_type": "markdown",
   "metadata": {},
   "source": [
    "let's clean these dates and extract them "
   ]
  },
  {
   "cell_type": "code",
   "execution_count": 21,
   "metadata": {},
   "outputs": [
    {
     "data": {
      "text/html": [
       "<div>\n",
       "<style scoped>\n",
       "    .dataframe tbody tr th:only-of-type {\n",
       "        vertical-align: middle;\n",
       "    }\n",
       "\n",
       "    .dataframe tbody tr th {\n",
       "        vertical-align: top;\n",
       "    }\n",
       "\n",
       "    .dataframe thead th {\n",
       "        text-align: right;\n",
       "    }\n",
       "</style>\n",
       "<table border=\"1\" class=\"dataframe\">\n",
       "  <thead>\n",
       "    <tr style=\"text-align: right;\">\n",
       "      <th></th>\n",
       "      <th>Day</th>\n",
       "      <th>Month</th>\n",
       "      <th>year</th>\n",
       "    </tr>\n",
       "  </thead>\n",
       "  <tbody>\n",
       "    <tr>\n",
       "      <th>0</th>\n",
       "      <td>25</td>\n",
       "      <td>05</td>\n",
       "      <td>2021</td>\n",
       "    </tr>\n",
       "    <tr>\n",
       "      <th>1</th>\n",
       "      <td>29</td>\n",
       "      <td>05</td>\n",
       "      <td>2021</td>\n",
       "    </tr>\n",
       "    <tr>\n",
       "      <th>2</th>\n",
       "      <td>12</td>\n",
       "      <td>04</td>\n",
       "      <td>2021</td>\n",
       "    </tr>\n",
       "    <tr>\n",
       "      <th>3</th>\n",
       "      <td>14</td>\n",
       "      <td>12</td>\n",
       "      <td>2020</td>\n",
       "    </tr>\n",
       "    <tr>\n",
       "      <th>4</th>\n",
       "      <td>06</td>\n",
       "      <td>01</td>\n",
       "      <td>2021</td>\n",
       "    </tr>\n",
       "    <tr>\n",
       "      <th>5</th>\n",
       "      <td>22</td>\n",
       "      <td>07</td>\n",
       "      <td>2020</td>\n",
       "    </tr>\n",
       "    <tr>\n",
       "      <th>6</th>\n",
       "      <td>25</td>\n",
       "      <td>05</td>\n",
       "      <td>2021</td>\n",
       "    </tr>\n",
       "    <tr>\n",
       "      <th>7</th>\n",
       "      <td>02</td>\n",
       "      <td>02</td>\n",
       "      <td>2021</td>\n",
       "    </tr>\n",
       "  </tbody>\n",
       "</table>\n",
       "</div>"
      ],
      "text/plain": [
       "  Day Month  year\n",
       "0  25    05  2021\n",
       "1  29    05  2021\n",
       "2  12    04  2021\n",
       "3  14    12  2020\n",
       "4  06    01  2021\n",
       "5  22    07  2020\n",
       "6  25    05  2021\n",
       "7  02    02  2021"
      ]
     },
     "execution_count": 21,
     "metadata": {},
     "output_type": "execute_result"
    }
   ],
   "source": [
    "dates = data['notes'].str.replace(r'(\\d{2}).(\\d{2}).(\\d{4})', lambda groups : groups[1]+'/'+groups[2]+'/'+groups[3])\n",
    "dates_df = dates.str.extract(r'(?P<Day>\\d{2}).(?P<Month>\\d{2}).(?P<year>\\d{4})')\n",
    "dates_df"
   ]
  },
  {
   "cell_type": "markdown",
   "metadata": {},
   "source": [
    "Let's extract the times"
   ]
  },
  {
   "cell_type": "code",
   "execution_count": 10,
   "metadata": {},
   "outputs": [
    {
     "data": {
      "text/html": [
       "<div>\n",
       "<style scoped>\n",
       "    .dataframe tbody tr th:only-of-type {\n",
       "        vertical-align: middle;\n",
       "    }\n",
       "\n",
       "    .dataframe tbody tr th {\n",
       "        vertical-align: top;\n",
       "    }\n",
       "\n",
       "    .dataframe thead th {\n",
       "        text-align: right;\n",
       "    }\n",
       "</style>\n",
       "<table border=\"1\" class=\"dataframe\">\n",
       "  <thead>\n",
       "    <tr style=\"text-align: right;\">\n",
       "      <th></th>\n",
       "      <th>Time</th>\n",
       "    </tr>\n",
       "  </thead>\n",
       "  <tbody>\n",
       "    <tr>\n",
       "      <th>0</th>\n",
       "      <td>6:00</td>\n",
       "    </tr>\n",
       "    <tr>\n",
       "      <th>1</th>\n",
       "      <td>3:00</td>\n",
       "    </tr>\n",
       "    <tr>\n",
       "      <th>2</th>\n",
       "      <td>4:40</td>\n",
       "    </tr>\n",
       "    <tr>\n",
       "      <th>3</th>\n",
       "      <td>8:30</td>\n",
       "    </tr>\n",
       "    <tr>\n",
       "      <th>4</th>\n",
       "      <td>9:30</td>\n",
       "    </tr>\n",
       "    <tr>\n",
       "      <th>5</th>\n",
       "      <td>12:00</td>\n",
       "    </tr>\n",
       "    <tr>\n",
       "      <th>6</th>\n",
       "      <td>5:30</td>\n",
       "    </tr>\n",
       "    <tr>\n",
       "      <th>7</th>\n",
       "      <td>9:00</td>\n",
       "    </tr>\n",
       "  </tbody>\n",
       "</table>\n",
       "</div>"
      ],
      "text/plain": [
       "    Time\n",
       "0   6:00\n",
       "1   3:00\n",
       "2   4:40\n",
       "3   8:30\n",
       "4   9:30\n",
       "5  12:00\n",
       "6   5:30\n",
       "7   9:00"
      ]
     },
     "execution_count": 10,
     "metadata": {},
     "output_type": "execute_result"
    }
   ],
   "source": [
    "time_df = data['notes'].str.extract(r'(?P<Time>\\d+:\\d+)')\n",
    "time_df"
   ]
  },
  {
   "cell_type": "markdown",
   "metadata": {},
   "source": [
    "Exercise: Extract the weekday names"
   ]
  },
  {
   "cell_type": "code",
   "execution_count": 16,
   "metadata": {},
   "outputs": [
    {
     "data": {
      "text/html": [
       "<div>\n",
       "<style scoped>\n",
       "    .dataframe tbody tr th:only-of-type {\n",
       "        vertical-align: middle;\n",
       "    }\n",
       "\n",
       "    .dataframe tbody tr th {\n",
       "        vertical-align: top;\n",
       "    }\n",
       "\n",
       "    .dataframe thead th {\n",
       "        text-align: right;\n",
       "    }\n",
       "</style>\n",
       "<table border=\"1\" class=\"dataframe\">\n",
       "  <thead>\n",
       "    <tr style=\"text-align: right;\">\n",
       "      <th></th>\n",
       "      <th>Weekday</th>\n",
       "    </tr>\n",
       "  </thead>\n",
       "  <tbody>\n",
       "    <tr>\n",
       "      <th>0</th>\n",
       "      <td>Thursday</td>\n",
       "    </tr>\n",
       "    <tr>\n",
       "      <th>1</th>\n",
       "      <td>Saturday</td>\n",
       "    </tr>\n",
       "    <tr>\n",
       "      <th>2</th>\n",
       "      <td>Tuesday</td>\n",
       "    </tr>\n",
       "    <tr>\n",
       "      <th>3</th>\n",
       "      <td>Friday</td>\n",
       "    </tr>\n",
       "    <tr>\n",
       "      <th>4</th>\n",
       "      <td>Wednesday</td>\n",
       "    </tr>\n",
       "    <tr>\n",
       "      <th>5</th>\n",
       "      <td>Friday</td>\n",
       "    </tr>\n",
       "    <tr>\n",
       "      <th>6</th>\n",
       "      <td>Wednesday</td>\n",
       "    </tr>\n",
       "    <tr>\n",
       "      <th>7</th>\n",
       "      <td>Monday</td>\n",
       "    </tr>\n",
       "  </tbody>\n",
       "</table>\n",
       "</div>"
      ],
      "text/plain": [
       "     Weekday\n",
       "0   Thursday\n",
       "1   Saturday\n",
       "2    Tuesday\n",
       "3     Friday\n",
       "4  Wednesday\n",
       "5     Friday\n",
       "6  Wednesday\n",
       "7     Monday"
      ]
     },
     "execution_count": 16,
     "metadata": {},
     "output_type": "execute_result"
    }
   ],
   "source": [
    "weekdays_df = data['notes'].str.extract(r'(?P<Weekday>\\w+day)')\n",
    "weekdays_df"
   ]
  },
  {
   "cell_type": "markdown",
   "metadata": {},
   "source": [
    "Now let's merge these three dataframes"
   ]
  },
  {
   "cell_type": "code",
   "execution_count": 22,
   "metadata": {},
   "outputs": [
    {
     "data": {
      "text/html": [
       "<div>\n",
       "<style scoped>\n",
       "    .dataframe tbody tr th:only-of-type {\n",
       "        vertical-align: middle;\n",
       "    }\n",
       "\n",
       "    .dataframe tbody tr th {\n",
       "        vertical-align: top;\n",
       "    }\n",
       "\n",
       "    .dataframe thead th {\n",
       "        text-align: right;\n",
       "    }\n",
       "</style>\n",
       "<table border=\"1\" class=\"dataframe\">\n",
       "  <thead>\n",
       "    <tr style=\"text-align: right;\">\n",
       "      <th></th>\n",
       "      <th>Day</th>\n",
       "      <th>Month</th>\n",
       "      <th>year</th>\n",
       "      <th>Time</th>\n",
       "      <th>Weekday</th>\n",
       "    </tr>\n",
       "  </thead>\n",
       "  <tbody>\n",
       "    <tr>\n",
       "      <th>0</th>\n",
       "      <td>25</td>\n",
       "      <td>05</td>\n",
       "      <td>2021</td>\n",
       "      <td>6:00</td>\n",
       "      <td>Thursday</td>\n",
       "    </tr>\n",
       "    <tr>\n",
       "      <th>1</th>\n",
       "      <td>29</td>\n",
       "      <td>05</td>\n",
       "      <td>2021</td>\n",
       "      <td>3:00</td>\n",
       "      <td>Saturday</td>\n",
       "    </tr>\n",
       "    <tr>\n",
       "      <th>2</th>\n",
       "      <td>12</td>\n",
       "      <td>04</td>\n",
       "      <td>2021</td>\n",
       "      <td>4:40</td>\n",
       "      <td>Tuesday</td>\n",
       "    </tr>\n",
       "    <tr>\n",
       "      <th>3</th>\n",
       "      <td>14</td>\n",
       "      <td>12</td>\n",
       "      <td>2020</td>\n",
       "      <td>8:30</td>\n",
       "      <td>Friday</td>\n",
       "    </tr>\n",
       "    <tr>\n",
       "      <th>4</th>\n",
       "      <td>06</td>\n",
       "      <td>01</td>\n",
       "      <td>2021</td>\n",
       "      <td>9:30</td>\n",
       "      <td>Wednesday</td>\n",
       "    </tr>\n",
       "    <tr>\n",
       "      <th>5</th>\n",
       "      <td>22</td>\n",
       "      <td>07</td>\n",
       "      <td>2020</td>\n",
       "      <td>12:00</td>\n",
       "      <td>Friday</td>\n",
       "    </tr>\n",
       "    <tr>\n",
       "      <th>6</th>\n",
       "      <td>25</td>\n",
       "      <td>05</td>\n",
       "      <td>2021</td>\n",
       "      <td>5:30</td>\n",
       "      <td>Wednesday</td>\n",
       "    </tr>\n",
       "    <tr>\n",
       "      <th>7</th>\n",
       "      <td>02</td>\n",
       "      <td>02</td>\n",
       "      <td>2021</td>\n",
       "      <td>9:00</td>\n",
       "      <td>Monday</td>\n",
       "    </tr>\n",
       "  </tbody>\n",
       "</table>\n",
       "</div>"
      ],
      "text/plain": [
       "  Day Month  year   Time    Weekday\n",
       "0  25    05  2021   6:00   Thursday\n",
       "1  29    05  2021   3:00   Saturday\n",
       "2  12    04  2021   4:40    Tuesday\n",
       "3  14    12  2020   8:30     Friday\n",
       "4  06    01  2021   9:30  Wednesday\n",
       "5  22    07  2020  12:00     Friday\n",
       "6  25    05  2021   5:30  Wednesday\n",
       "7  02    02  2021   9:00     Monday"
      ]
     },
     "execution_count": 22,
     "metadata": {},
     "output_type": "execute_result"
    }
   ],
   "source": [
    "information = dates_df.join(time_df).join(weekdays_df)\n",
    "information"
   ]
  },
  {
   "cell_type": "markdown",
   "metadata": {},
   "source": [
    "Now we can do a lot of analysis based on this dataframe <br>\n",
    "\n",
    "Let's answer to this question: <b> In which days of the week, I am busier? </b>"
   ]
  },
  {
   "cell_type": "markdown",
   "metadata": {},
   "source": [
    "aggregate the dataframe on weekday column and count "
   ]
  },
  {
   "cell_type": "code",
   "execution_count": 24,
   "metadata": {},
   "outputs": [
    {
     "data": {
      "text/plain": [
       "Wednesday    2\n",
       "Friday       2\n",
       "Tuesday      1\n",
       "Monday       1\n",
       "Saturday     1\n",
       "Thursday     1\n",
       "Name: Weekday, dtype: int64"
      ]
     },
     "execution_count": 24,
     "metadata": {},
     "output_type": "execute_result"
    }
   ],
   "source": [
    "information.Weekday.value_counts()"
   ]
  },
  {
   "cell_type": "markdown",
   "metadata": {},
   "source": [
    "as another analytical question: In which months this year, I have been busier?"
   ]
  },
  {
   "cell_type": "code",
   "execution_count": 29,
   "metadata": {},
   "outputs": [
    {
     "data": {
      "text/plain": [
       "05    3\n",
       "04    1\n",
       "02    1\n",
       "01    1\n",
       "Name: Month, dtype: int64"
      ]
     },
     "execution_count": 29,
     "metadata": {},
     "output_type": "execute_result"
    }
   ],
   "source": [
    "information[information.year == '2021'].Month.value_counts()"
   ]
  },
  {
   "cell_type": "code",
   "execution_count": null,
   "metadata": {},
   "outputs": [],
   "source": []
  }
 ],
 "metadata": {
  "kernelspec": {
   "display_name": "Python 3",
   "language": "python",
   "name": "python3"
  },
  "language_info": {
   "codemirror_mode": {
    "name": "ipython",
    "version": 3
   },
   "file_extension": ".py",
   "mimetype": "text/x-python",
   "name": "python",
   "nbconvert_exporter": "python",
   "pygments_lexer": "ipython3",
   "version": "3.8.2"
  }
 },
 "nbformat": 4,
 "nbformat_minor": 4
}
